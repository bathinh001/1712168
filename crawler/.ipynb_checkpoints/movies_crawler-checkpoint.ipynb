{
 "cells": [
  {
   "cell_type": "code",
   "execution_count": 96,
   "metadata": {},
   "outputs": [
    {
     "name": "stdout",
     "output_type": "stream",
     "text": [
      "Requirement already satisfied: tqdm in c:\\programdata\\anaconda3\\lib\\site-packages (4.47.0)\n",
      "Requirement already satisfied: imdbpy in c:\\programdata\\anaconda3\\lib\\site-packages (2020.9.25)\n",
      "Requirement already satisfied: SQLAlchemy in c:\\programdata\\anaconda3\\lib\\site-packages (from imdbpy) (1.3.18)\n",
      "Requirement already satisfied: lxml in c:\\programdata\\anaconda3\\lib\\site-packages (from imdbpy) (4.5.2)\n"
     ]
    }
   ],
   "source": [
    "!pip install tqdm\n",
    "!pip install imdbpy"
   ]
  },
  {
   "cell_type": "code",
   "execution_count": 3,
   "metadata": {},
   "outputs": [],
   "source": [
    "from requests_html import HTMLSession # for making request\n",
    "import requests # for making request\n",
    "import pandas as pd # for data processing\n",
    "import numpy as np # for data processing\n",
    "from tqdm import tqdm # for count time of iteration\n",
    "import re\n",
    "from tqdm import tqdm\n",
    "from imdb import IMDb\n",
    "from imdb.Person import Person"
   ]
  },
  {
   "cell_type": "markdown",
   "metadata": {},
   "source": [
    "# Crawl movie data\n",
    "\n",
    "Ở phần này, mình sẽ kết hợp cả 2 phương pháp crawl data:\n",
    "- Parse HTML: dùng để mở trang html, lấy ra danh sách các genre (gồm 21 genres), rồi từ mỗi genre lấy ra top movie có từ 10000 votes trở lên. Những bước và điều kiện như vậy sẽ giúp mình lấy ra những movie nổi tiếng, từ đó sẽ dễ khai thác user cũng như những thông số rating mỗi phim sẽ đáng tin cậy hơn nhờ vào lượt vote lớn. Tuy nhiên ở bước này chỉ lấy ra id của các movie, vì imdb đã hỗ trợ mình api, chỉ cần dựa vào id để khai thác.\n",
    "- API: sử dụng thư viện imdbpy, từ set id đã có ở bước trên qua API function gọi các thuộc tính của movie.\n",
    "\n",
    "Sau phần này sẽ có 2 tập data:\n",
    "- movie.csv: những thông tin cơ bản của phim, không liên quan đến yếu tố con người\n",
    "- credit.csv: những thông tin liên quan đến diễn viên, đạo diễn, nhà sản xuất,... của mỗi movie"
   ]
  },
  {
   "cell_type": "markdown",
   "metadata": {},
   "source": [
    "# Problem\n",
    "\n",
    "Prediction plays an important role in many **Recommendation Systems**.\n",
    "\n",
    "In this task, data from IMDb will be used to:\n",
    "- predict movies based on a movie's content such as: title, directors, casts, genres, keywords, etc (Content Based Filtering). (TF-IDF, cosine similarity matrix)\n",
    "- predict a preference that a user would give to a movie (Collaborative Filtering) (SVD)\n",
    "- predict movies for a user based on other relevant users (Collaborative Filtering) (KNN)\n",
    "\n",
    "The first prediction helps us to recommend movies when not knowing anything about users' tastes.\n",
    "\n",
    "The next two predictions  "
   ]
  },
  {
   "cell_type": "markdown",
   "metadata": {},
   "source": [
    "# Parse HTML"
   ]
  },
  {
   "cell_type": "markdown",
   "metadata": {},
   "source": [
    "## Get genre"
   ]
  },
  {
   "cell_type": "code",
   "execution_count": 98,
   "metadata": {},
   "outputs": [],
   "source": [
    "url = 'https://www.imdb.com/chart/top'\n",
    "session = HTMLSession()\n",
    "r = session.get(url)"
   ]
  },
  {
   "cell_type": "code",
   "execution_count": 99,
   "metadata": {},
   "outputs": [],
   "source": [
    "genres = [genre.text for genre in r.html.find(\".subnav_item_main\")]"
   ]
  },
  {
   "cell_type": "markdown",
   "metadata": {},
   "source": [
    "## Get item"
   ]
  },
  {
   "cell_type": "code",
   "execution_count": 123,
   "metadata": {},
   "outputs": [
    {
     "name": "stderr",
     "output_type": "stream",
     "text": [
      "100%|██████████████████████████████████████████████████████████████████████████████████| 21/21 [10:21<00:00, 29.61s/it]\n"
     ]
    }
   ],
   "source": [
    "num_item_per_page = 250\n",
    "min_vote = 10000\n",
    "session = HTMLSession()\n",
    "\n",
    "movies_elements = []\n",
    "\n",
    "for genre in tqdm(genres):\n",
    "    index = 1\n",
    "    while True:\n",
    "        search_url = f'https://www.imdb.com/search/title/?title_type=feature&num_votes={min_vote},&genres={genre.lower()}&count={num_item_per_page}&start={index}'\n",
    "        r = session.get(search_url)\n",
    "        items = r.html.find('.lister-item-header > a')\n",
    "        if not items:\n",
    "            break\n",
    "        else:\n",
    "            movies_elements.extend(items)\n",
    "            index += num_item_per_page"
   ]
  },
  {
   "cell_type": "code",
   "execution_count": 124,
   "metadata": {},
   "outputs": [
    {
     "data": {
      "text/plain": [
       "26522"
      ]
     },
     "execution_count": 124,
     "metadata": {},
     "output_type": "execute_result"
    }
   ],
   "source": [
    "len(movies_elements)"
   ]
  },
  {
   "cell_type": "markdown",
   "metadata": {},
   "source": [
    "## Extract movie ID from list of movie elements"
   ]
  },
  {
   "cell_type": "code",
   "execution_count": 125,
   "metadata": {},
   "outputs": [],
   "source": [
    "for item in movies_elements:\n",
    "    id = re.search('/tt(.+?)/', item.links.pop())\n",
    "    if not id:\n",
    "        continue\n",
    "    found_id = id.group(1)\n",
    "    if found_id in set_id:\n",
    "        continue\n",
    "    set_id.add(found_id)"
   ]
  },
  {
   "cell_type": "code",
   "execution_count": 189,
   "metadata": {},
   "outputs": [
    {
     "data": {
      "text/plain": [
       "8681"
      ]
     },
     "execution_count": 189,
     "metadata": {},
     "output_type": "execute_result"
    }
   ],
   "source": [
    "len(set_id)"
   ]
  },
  {
   "cell_type": "markdown",
   "metadata": {},
   "source": [
    "# API"
   ]
  },
  {
   "cell_type": "code",
   "execution_count": 4,
   "metadata": {},
   "outputs": [],
   "source": [
    "imdb_handler = IMDb()"
   ]
  },
  {
   "cell_type": "code",
   "execution_count": 256,
   "metadata": {},
   "outputs": [],
   "source": [
    "def get_people_info(movie, people_type):\n",
    "    if movie.get(people_type, None) is None:\n",
    "        return []\n",
    "    data = []\n",
    "    for item in movie[people_type]:\n",
    "        dict_row = {}\n",
    "        dict_row['id'] = item.getID()\n",
    "        dict_row['name'] = item.get('name', None)\n",
    "        if dict_row['id'] is None or dict_row['name'] is None:\n",
    "            continue\n",
    "        data.append(dict_row)\n",
    "    return data"
   ]
  },
  {
   "cell_type": "code",
   "execution_count": 273,
   "metadata": {},
   "outputs": [
    {
     "name": "stderr",
     "output_type": "stream",
     "text": [
      " 35%|█████████████████████████▉                                                | 3043/8681 [3:06:02<5:50:52,  3.73s/it]2020-12-31 02:52:45,457 CRITICAL [imdbpy] C:\\ProgramData\\Anaconda3\\lib\\site-packages\\imdb\\_exceptions.py:32: IMDbDataAccessError exception raised; args: ({'errcode': None, 'errmsg': 'None', 'url': 'https://www.imdb.com/title/tt0112625/reference', 'proxy': '', 'exception type': 'IOError', 'original exception': <HTTPError 500: 'Internal Server Error'>},); kwds: {}\n",
      "Traceback (most recent call last):\n",
      "  File \"C:\\ProgramData\\Anaconda3\\lib\\site-packages\\imdb\\parser\\http\\__init__.py\", line 220, in retrieve_unicode\n",
      "    response = uopener.open(url)\n",
      "  File \"C:\\ProgramData\\Anaconda3\\lib\\urllib\\request.py\", line 531, in open\n",
      "    response = meth(req, response)\n",
      "  File \"C:\\ProgramData\\Anaconda3\\lib\\urllib\\request.py\", line 640, in http_response\n",
      "    response = self.parent.error(\n",
      "  File \"C:\\ProgramData\\Anaconda3\\lib\\urllib\\request.py\", line 569, in error\n",
      "    return self._call_chain(*args)\n",
      "  File \"C:\\ProgramData\\Anaconda3\\lib\\urllib\\request.py\", line 502, in _call_chain\n",
      "    result = func(*args)\n",
      "  File \"C:\\ProgramData\\Anaconda3\\lib\\urllib\\request.py\", line 649, in http_error_default\n",
      "    raise HTTPError(req.full_url, code, msg, hdrs, fp)\n",
      "urllib.error.HTTPError: HTTP Error 500: Internal Server Error\n",
      "2020-12-31 02:52:45,788 CRITICAL [imdbpy] C:\\ProgramData\\Anaconda3\\lib\\site-packages\\imdb\\__init__.py:789: caught an exception retrieving or parsing \"main\" info set for mopID \"0112625\" (accessSystem: http)\n",
      "Traceback (most recent call last):\n",
      "  File \"C:\\ProgramData\\Anaconda3\\lib\\site-packages\\imdb\\parser\\http\\__init__.py\", line 220, in retrieve_unicode\n",
      "    response = uopener.open(url)\n",
      "  File \"C:\\ProgramData\\Anaconda3\\lib\\urllib\\request.py\", line 531, in open\n",
      "    response = meth(req, response)\n",
      "  File \"C:\\ProgramData\\Anaconda3\\lib\\urllib\\request.py\", line 640, in http_response\n",
      "    response = self.parent.error(\n",
      "  File \"C:\\ProgramData\\Anaconda3\\lib\\urllib\\request.py\", line 569, in error\n",
      "    return self._call_chain(*args)\n",
      "  File \"C:\\ProgramData\\Anaconda3\\lib\\urllib\\request.py\", line 502, in _call_chain\n",
      "    result = func(*args)\n",
      "  File \"C:\\ProgramData\\Anaconda3\\lib\\urllib\\request.py\", line 649, in http_error_default\n",
      "    raise HTTPError(req.full_url, code, msg, hdrs, fp)\n",
      "urllib.error.HTTPError: HTTP Error 500: Internal Server Error\n",
      "\n",
      "During handling of the above exception, another exception occurred:\n",
      "\n",
      "Traceback (most recent call last):\n",
      "  File \"C:\\ProgramData\\Anaconda3\\lib\\site-packages\\imdb\\__init__.py\", line 787, in update\n",
      "    ret = method(mopID)\n",
      "  File \"C:\\ProgramData\\Anaconda3\\lib\\site-packages\\imdb\\parser\\http\\__init__.py\", line 454, in get_movie_main\n",
      "    cont = self._retrieve(self.urls['movie_main'] % movieID + 'reference')\n",
      "  File \"C:\\ProgramData\\Anaconda3\\lib\\site-packages\\imdb\\parser\\http\\__init__.py\", line 378, in _retrieve\n",
      "    ret = self.urlOpener.retrieve_unicode(url, size=size)\n",
      "  File \"C:\\ProgramData\\Anaconda3\\lib\\site-packages\\imdb\\parser\\http\\__init__.py\", line 248, in retrieve_unicode\n",
      "    raise IMDbDataAccessError(\n",
      "imdb._exceptions.IMDbDataAccessError: {'errcode': None, 'errmsg': 'None', 'url': 'https://www.imdb.com/title/tt0112625/reference', 'proxy': '', 'exception type': 'IOError', 'original exception': <HTTPError 500: 'Internal Server Error'>}\n",
      "100%|████████████████████████████████████████████████████████████████████████████| 8681/8681 [8:55:21<00:00,  3.70s/it]\n"
     ]
    }
   ],
   "source": [
    "# list 'movies_info' dùng để chứa thông tin riêng của movie, không liên quan đến yếu tố con người\n",
    "movies_info = []\n",
    "# list 'movies_people_info' dùng để chứa thông tin liên quan đến yếu tố con người trong movie (như cast, directors, ...)\n",
    "movies_people_info = []\n",
    "\n",
    "for id in tqdm(set_id):\n",
    "    try:\n",
    "        movie = imdb_handler.get_movie(id)\n",
    "        dict_row_movie = {}\n",
    "        dict_row_movie['id'] = movie['imdbID']\n",
    "        dict_row_movie['title'] = movie['title']\n",
    "        dict_row_movie['runtimes'] = movie['runtimes'][0]\n",
    "        dict_row_movie['genres'] = \";\".join(movie['genres'])\n",
    "        dict_row_movie['vote_counts'] = movie['votes']\n",
    "        dict_row_movie['average_rating'] = movie['rating']\n",
    "        dict_row_movie['overview'] = movie.get('plot outline', None)\n",
    "        if dict_row_movie['overview'] is None:\n",
    "            plot = movie.get('plot', None)\n",
    "            if plot is not None:\n",
    "                chosen_plot = max(plot, key=len)\n",
    "                end_index = chosen_plot.rfind('::')\n",
    "                dict_row_movie['overview'] = chosen_plot[:end_index]\n",
    "\n",
    "        dict_row_movie_person = {}\n",
    "        dict_row_movie_person['id'] = movie['imdbID']\n",
    "        people_types = ['cast', 'directors', 'writers', 'producers', 'composers']\n",
    "        for people_type in people_types:\n",
    "            dict_row_movie_person[people_type] = get_people_info(movie, people_type)\n",
    "\n",
    "        movies_info.append(dict_row_movie)\n",
    "        movies_people_info.append(dict_row_movie_person)\n",
    "    except:\n",
    "        pass"
   ]
  },
  {
   "cell_type": "code",
   "execution_count": 269,
   "metadata": {},
   "outputs": [],
   "source": [
    "pd.set_option('display.max_colwidth', None)"
   ]
  },
  {
   "cell_type": "code",
   "execution_count": 274,
   "metadata": {},
   "outputs": [],
   "source": [
    "movies_info_df = pd.DataFrame(data=movies_info)\n",
    "movies_people_info_df = pd.DataFrame(data=movies_people_info)"
   ]
  },
  {
   "cell_type": "code",
   "execution_count": 281,
   "metadata": {},
   "outputs": [
    {
     "data": {
      "text/html": [
       "<div>\n",
       "<style scoped>\n",
       "    .dataframe tbody tr th:only-of-type {\n",
       "        vertical-align: middle;\n",
       "    }\n",
       "\n",
       "    .dataframe tbody tr th {\n",
       "        vertical-align: top;\n",
       "    }\n",
       "\n",
       "    .dataframe thead th {\n",
       "        text-align: right;\n",
       "    }\n",
       "</style>\n",
       "<table border=\"1\" class=\"dataframe\">\n",
       "  <thead>\n",
       "    <tr style=\"text-align: right;\">\n",
       "      <th></th>\n",
       "      <th>id</th>\n",
       "      <th>title</th>\n",
       "      <th>runtimes</th>\n",
       "      <th>genres</th>\n",
       "      <th>vote_counts</th>\n",
       "      <th>average_rating</th>\n",
       "      <th>overview</th>\n",
       "    </tr>\n",
       "  </thead>\n",
       "  <tbody>\n",
       "    <tr>\n",
       "      <th>0</th>\n",
       "      <td>0337578</td>\n",
       "      <td>Gardener</td>\n",
       "      <td>181</td>\n",
       "      <td>Drama;Romance</td>\n",
       "      <td>15084</td>\n",
       "      <td>7.4</td>\n",
       "      <td>Raj Malhotra and wife Pooja have four sons. The sons have settled down professionally and are quite independent. However, when Raj Malhotra retires, none of his children want to be burdened with the responsibility of taking care of their parents. Strangely, it is the adopted son who proves to be the most kind hearted of them all. Salman's girlfriend eventually marries him. The question is, will Raj and Pooja's sons learn the folly of their ways and turn over a new leaf?</td>\n",
       "    </tr>\n",
       "    <tr>\n",
       "      <th>1</th>\n",
       "      <td>0113253</td>\n",
       "      <td>Halloween: The Curse of Michael Myers</td>\n",
       "      <td>87</td>\n",
       "      <td>Horror;Thriller</td>\n",
       "      <td>31301</td>\n",
       "      <td>4.8</td>\n",
       "      <td>Six years after Michael Myers' last massacre in Haddonfield, Jamie Lloyd has a child, but is then killed by Michael. Michael is allied with the Cult of Thorn, who both protect him and gave him the Curse of Thorn, the reason he killed all of his family. The Strode Family also moved into the Myers' house and are stalked by Michael. Sam Loomis and Tommy Doyle, a boy Laurie babysat during Michael's first rampage, are now out to stop Michael and the cult. Michael heads to kill Jamie's son and the rest of Laurie's family, but Dr. Loomis and Tommy plan to stop the curse, defeat the cult, stop Michael, and put an end to his murderous rampages, once and for all.</td>\n",
       "    </tr>\n",
       "    <tr>\n",
       "      <th>2</th>\n",
       "      <td>0995868</td>\n",
       "      <td>Pele: Birth of a Legend</td>\n",
       "      <td>107</td>\n",
       "      <td>Biography;Drama;Sport</td>\n",
       "      <td>16402</td>\n",
       "      <td>7.2</td>\n",
       "      <td>Pele's meteoric rise from the slums of Sao Paulo to leading Brazil to its first World Cup victory at the age of 17 is chronicled in this biographical drama.</td>\n",
       "    </tr>\n",
       "    <tr>\n",
       "      <th>3</th>\n",
       "      <td>4901306</td>\n",
       "      <td>Perfect Strangers</td>\n",
       "      <td>96</td>\n",
       "      <td>Comedy;Drama</td>\n",
       "      <td>56387</td>\n",
       "      <td>7.8</td>\n",
       "      <td>On a warm summer evening, the loving couple of Rocco, a plastic surgeon, and Eva, a therapist, are expecting their good friends to share a pleasant gathering over dinner. Everything is in order: The first course is ready; the roast is in the oven; the table is set, and without a doubt, this is going to be a meeting of true friends. Before long, the group begins the feast; however, in this nice but somewhat ordinary dinner, there is certainly something missing. Perhaps, if everyone placed their mobile phones on the table--and like a dangerous Russian roulette shared whatever arrived (texts, WhatsApp messages, and calls)--it would spice things up. Clearly, this uncommon truth-or-dare game has no point among honest companions who share everything with each other; nevertheless, when the phones start ringing, who will be the one with the sweatiest palms?</td>\n",
       "    </tr>\n",
       "    <tr>\n",
       "      <th>4</th>\n",
       "      <td>0361696</td>\n",
       "      <td>Raise Your Voice</td>\n",
       "      <td>107</td>\n",
       "      <td>Family;Music;Musical;Romance</td>\n",
       "      <td>26730</td>\n",
       "      <td>5.9</td>\n",
       "      <td>This film is about a teenage girl who is very upset about her brother's death in a car crash. Terri has a love of singing and making up her own songs. Her brother (before his death) secretly submits a DVD of her singing to a musical summer camp down in L.A. Her father doesn't want her to go, but secretly her mom lets her go and everything goes fine, except she has stage fright. She gets through her stage fright with the help of her new friend Jay. At the end of the contest everyone at the musical school have to perform something. And if they win, they win a scholarship along with it. Her dad finds out, comes down to L.A. and threatens to take her home! Will he let her stay? and will she win the contest? Viewers are on the edges of their seats to find out what happens...</td>\n",
       "    </tr>\n",
       "  </tbody>\n",
       "</table>\n",
       "</div>"
      ],
      "text/plain": [
       "        id                                  title runtimes  \\\n",
       "0  0337578                               Gardener      181   \n",
       "1  0113253  Halloween: The Curse of Michael Myers       87   \n",
       "2  0995868                Pele: Birth of a Legend      107   \n",
       "3  4901306                      Perfect Strangers       96   \n",
       "4  0361696                       Raise Your Voice      107   \n",
       "\n",
       "                         genres  vote_counts  average_rating  \\\n",
       "0                 Drama;Romance        15084             7.4   \n",
       "1               Horror;Thriller        31301             4.8   \n",
       "2         Biography;Drama;Sport        16402             7.2   \n",
       "3                  Comedy;Drama        56387             7.8   \n",
       "4  Family;Music;Musical;Romance        26730             5.9   \n",
       "\n",
       "                                                                                                                                                                                                                                                                                                                                                                                                                                                                                                                                                                                                                                                                                                                                                                                                                                                                                        overview  \n",
       "0                                                                                                                                                                                                                                                                                                                                                                                                     Raj Malhotra and wife Pooja have four sons. The sons have settled down professionally and are quite independent. However, when Raj Malhotra retires, none of his children want to be burdened with the responsibility of taking care of their parents. Strangely, it is the adopted son who proves to be the most kind hearted of them all. Salman's girlfriend eventually marries him. The question is, will Raj and Pooja's sons learn the folly of their ways and turn over a new leaf?  \n",
       "1                                                                                                                                                                                                          Six years after Michael Myers' last massacre in Haddonfield, Jamie Lloyd has a child, but is then killed by Michael. Michael is allied with the Cult of Thorn, who both protect him and gave him the Curse of Thorn, the reason he killed all of his family. The Strode Family also moved into the Myers' house and are stalked by Michael. Sam Loomis and Tommy Doyle, a boy Laurie babysat during Michael's first rampage, are now out to stop Michael and the cult. Michael heads to kill Jamie's son and the rest of Laurie's family, but Dr. Loomis and Tommy plan to stop the curse, defeat the cult, stop Michael, and put an end to his murderous rampages, once and for all.  \n",
       "2                                                                                                                                                                                                                                                                                                                                                                                                                                                                                                                                                                                                                                                                                                                                   Pele's meteoric rise from the slums of Sao Paulo to leading Brazil to its first World Cup victory at the age of 17 is chronicled in this biographical drama.  \n",
       "3  On a warm summer evening, the loving couple of Rocco, a plastic surgeon, and Eva, a therapist, are expecting their good friends to share a pleasant gathering over dinner. Everything is in order: The first course is ready; the roast is in the oven; the table is set, and without a doubt, this is going to be a meeting of true friends. Before long, the group begins the feast; however, in this nice but somewhat ordinary dinner, there is certainly something missing. Perhaps, if everyone placed their mobile phones on the table--and like a dangerous Russian roulette shared whatever arrived (texts, WhatsApp messages, and calls)--it would spice things up. Clearly, this uncommon truth-or-dare game has no point among honest companions who share everything with each other; nevertheless, when the phones start ringing, who will be the one with the sweatiest palms?  \n",
       "4                                                                                   This film is about a teenage girl who is very upset about her brother's death in a car crash. Terri has a love of singing and making up her own songs. Her brother (before his death) secretly submits a DVD of her singing to a musical summer camp down in L.A. Her father doesn't want her to go, but secretly her mom lets her go and everything goes fine, except she has stage fright. She gets through her stage fright with the help of her new friend Jay. At the end of the contest everyone at the musical school have to perform something. And if they win, they win a scholarship along with it. Her dad finds out, comes down to L.A. and threatens to take her home! Will he let her stay? and will she win the contest? Viewers are on the edges of their seats to find out what happens...  "
      ]
     },
     "execution_count": 281,
     "metadata": {},
     "output_type": "execute_result"
    }
   ],
   "source": [
    "movies_info_df.head()"
   ]
  },
  {
   "cell_type": "code",
   "execution_count": 282,
   "metadata": {},
   "outputs": [
    {
     "data": {
      "text/html": [
       "<div>\n",
       "<style scoped>\n",
       "    .dataframe tbody tr th:only-of-type {\n",
       "        vertical-align: middle;\n",
       "    }\n",
       "\n",
       "    .dataframe tbody tr th {\n",
       "        vertical-align: top;\n",
       "    }\n",
       "\n",
       "    .dataframe thead th {\n",
       "        text-align: right;\n",
       "    }\n",
       "</style>\n",
       "<table border=\"1\" class=\"dataframe\">\n",
       "  <thead>\n",
       "    <tr style=\"text-align: right;\">\n",
       "      <th></th>\n",
       "      <th>id</th>\n",
       "      <th>cast</th>\n",
       "      <th>directors</th>\n",
       "      <th>writers</th>\n",
       "      <th>producers</th>\n",
       "      <th>composers</th>\n",
       "    </tr>\n",
       "  </thead>\n",
       "  <tbody>\n",
       "    <tr>\n",
       "      <th>0</th>\n",
       "      <td>0337578</td>\n",
       "      <td>[{'id': '0000821', 'name': 'Amitabh Bachchan'}, {'id': '0004564', 'name': 'Hema Malini'}, {'id': '0006795', 'name': 'Salman Khan'}, {'id': '0154274', 'name': 'Mahima Chaudhry'}, {'id': '0990090', 'name': 'Aman Verma'}, {'id': '1267095', 'name': 'Samir Soni'}, {'id': '1265436', 'name': 'Saahil Chadha'}, {'id': '1177893', 'name': 'Nasirr Khan'}, {'id': '0710046', 'name': 'Suman Ranganath'}, {'id': '0244890', 'name': 'Divya Dutta'}, {'id': '1247644', 'name': 'Arzoo Govitrikar'}, {'id': '1267008', 'name': 'Rimi Sen'}, {'id': '0310698', 'name': 'Yash Gawli'}, {'id': '0712546', 'name': 'Paresh Rawal'}, {'id': '0239267', 'name': 'Lillete Dubey'}, {'id': '0768296', 'name': 'Sharat Saxena'}, {'id': '1266956', 'name': 'Sanjeeda Sheikh'}, {'id': '2147526', 'name': 'Asrani'}, {'id': '0318622', 'name': 'Avtar Gill'}, {'id': '0430803', 'name': 'Mohan Joshi'}, {'id': '0220807', 'name': 'Anang Desai'}, {'id': '0883165', 'name': 'Nakul Vaid'}, {'id': '0456094', 'name': 'Shashi Kiran'}, {'id': '1024111', 'name': 'Gajendra Chauhan'}, {'id': '0747195', 'name': 'Sudipta Roy'}, {'id': '1869031', 'name': 'Neha Ghanekar'}, {'id': '1866697', 'name': 'Titiksha Burman'}, {'id': '1587122', 'name': 'Smit Sheth'}, {'id': '1249326', 'name': 'Harsh Vashisht'}]</td>\n",
       "      <td>[{'id': '0159162', 'name': 'Ravi Chopra'}]</td>\n",
       "      <td>[{'id': '1338353', 'name': 'Shafiq Ansari'}, {'id': '1338448', 'name': 'Satish Bhatnagar'}, {'id': '0159148', 'name': 'B.R. Chopra'}, {'id': '1338988', 'name': 'Ram Govind'}, {'id': '0492854', 'name': 'Josephine Lawrence'}, {'id': '0495259', 'name': 'Helen Leary'}, {'id': '0495270', 'name': 'Nolan Leary'}, {'id': '1221396', 'name': 'Achala Nagar'}, {'id': '1221396', 'name': 'Achala Nagar'}]</td>\n",
       "      <td>[{'id': '1388826', 'name': 'Ashwani Chopra'}, {'id': '0159148', 'name': 'B.R. Chopra'}]</td>\n",
       "      <td>[{'id': '0795411', 'name': 'Aadesh Shrivastava'}, {'id': '0802252', 'name': 'Uttam Singh'}]</td>\n",
       "    </tr>\n",
       "    <tr>\n",
       "      <th>1</th>\n",
       "      <td>0113253</td>\n",
       "      <td>[{'id': '0000587', 'name': 'Donald Pleasence'}, {'id': '0748620', 'name': 'Paul Rudd'}, {'id': '0353238', 'name': 'Marianne Hagan'}, {'id': '0752751', 'name': 'Mitchell Ryan'}, {'id': '0200981', 'name': 'Kim Darby'}, {'id': '0257588', 'name': 'Bradford English'}, {'id': '0091569', 'name': 'Keith Bogart'}, {'id': '0639686', 'name': 'Mariah O'Brien'}, {'id': '0315210', 'name': 'Leo Geter'}, {'id': '0105046', 'name': 'J.C. Brandy'}, {'id': '0306894', 'name': 'Devin Gardner'}, {'id': '0842630', 'name': 'Susan Swift'}, {'id': '0928111', 'name': 'George P. Wilbur'}, {'id': '0460758', 'name': 'Janice Knickrehm'}, {'id': '0248430', 'name': 'Alan Echeverria'}, {'id': '0750539', 'name': 'Hildur Ruriks'}, {'id': '0382959', 'name': 'Sheri Hicks'}, {'id': '0698354', 'name': 'Tom Proctor'}, {'id': '0606408', 'name': 'Bryan Morris'}, {'id': '0156806', 'name': 'Lee Ju Chew'}, {'id': '0027309', 'name': 'Raquelle Anderson'}, {'id': '0838741', 'name': 'Kristine Summers'}, {'id': '0232172', 'name': 'Elyse Donalson'}, {'id': '0503583', 'name': 'A. Michael Lerner'}, {'id': '1115786', 'name': 'Jimmy Chunga'}, {'id': '0242941', 'name': 'Ellen Dunning'}, {'id': '1355220', 'name': 'Brad Hardin'}, {'id': '0503610', 'name': 'Fred Lerner'}, {'id': '1083984', 'name': 'James Woodson'}]</td>\n",
       "      <td>[{'id': '0152640', 'name': 'Joe Chappelle'}]</td>\n",
       "      <td>[{'id': '0384185', 'name': 'Debra Hill'}, {'id': '0000118', 'name': 'John Carpenter'}, {'id': '0268107', 'name': 'Daniel Farrands'}]</td>\n",
       "      <td>[{'id': '0015443', 'name': 'Malek Akkad'}, {'id': '0002160', 'name': 'Moustapha Akkad'}, {'id': '0293551', 'name': 'Paul Freeman'}]</td>\n",
       "      <td>[{'id': '0397697', 'name': 'Alan Howarth'}, {'id': '0704979', 'name': 'Paul Rabjohns'}]</td>\n",
       "    </tr>\n",
       "    <tr>\n",
       "      <th>2</th>\n",
       "      <td>0995868</td>\n",
       "      <td>[{'id': '5991572', 'name': 'Kevin de Paula'}, {'id': '5991573', 'name': 'Leonardo Lima Carvalho'}, {'id': '1179580', 'name': 'Seu Jorge'}, {'id': '4178453', 'name': 'Mariana Nunes'}, {'id': '0328604', 'name': 'Milton Gonçalves'}, {'id': '0584492', 'name': 'Seth Michaels'}, {'id': '0000352', 'name': 'Vincent D'Onofrio'}, {'id': '0560412', 'name': 'André Mattos'}, {'id': '0679888', 'name': 'Phil Miler'}, {'id': '4158426', 'name': 'Rafael Henriques'}, {'id': '5991243', 'name': 'Felipe Simas'}, {'id': '2186742', 'name': 'Adriano Aragon'}, {'id': '4309059', 'name': 'Mariana Balsa'}, {'id': '6534539', 'name': 'Eric Bell Jr.'}, {'id': '1546300', 'name': 'Diego Boneta'}, {'id': '1832579', 'name': 'Fernando Caruso'}, {'id': '1397601', 'name': 'Tonya Cornelisse'}, {'id': '6644313', 'name': 'Jon Cotterill'}, {'id': '6565973', 'name': 'Vivi Devereaux'}, {'id': '1499052', 'name': 'Thelmo Fernandes'}, {'id': '5991245', 'name': 'Jerome Franz'}, {'id': '5991247', 'name': 'Roger Haag'}, {'id': '2003849', 'name': 'Sven Holmberg'}, {'id': '6331142', 'name': 'Arthur Jansen'}, {'id': '0433784', 'name': 'Garcia Júnior'}, {'id': '0506492', 'name': 'Julio Levy'}, {'id': '0000538', 'name': 'Colm Meaney'}, {'id': '0616564', 'name': 'Charles Myara'}, {'id': '4550048', 'name': 'Ivan Orlic'}, {'id': '0671446', 'name': 'Pelé'}, {'id': '0763928', 'name': 'Rodrigo Santoro'}, {'id': '1518261', 'name': 'Brandon Wilson'}, {'id': '3681119', 'name': 'Celine Zapata'}]</td>\n",
       "      <td>[{'id': '1905310', 'name': 'Jeff Zimbalist'}, {'id': '3104562', 'name': 'Michael Zimbalist'}]</td>\n",
       "      <td>[{'id': '1905310', 'name': 'Jeff Zimbalist'}, {'id': '3104562', 'name': 'Michael Zimbalist'}]</td>\n",
       "      <td>[{'id': '6453234', 'name': 'Alexandre Dauman'}, {'id': '0247524', 'name': 'Guy East'}, {'id': '0274288', 'name': 'Caíque Martins Ferreira'}, {'id': '0004976', 'name': 'Brian Grazer'}, {'id': '3070587', 'name': 'Paul Kemsley'}, {'id': '3092126', 'name': 'Benjamin Mathes'}, {'id': '4550048', 'name': 'Ivan Orlic'}, {'id': '0671446', 'name': 'Pelé'}, {'id': '1909034', 'name': 'Patrick Tendai Pfupajena'}, {'id': '0744907', 'name': 'Kim Roth'}, {'id': '5966439', 'name': 'Shana Salazar'}, {'id': '0933213', 'name': 'Colin Wilson'}]</td>\n",
       "      <td>[{'id': '0006246', 'name': 'A.R. Rahman'}]</td>\n",
       "    </tr>\n",
       "    <tr>\n",
       "      <th>3</th>\n",
       "      <td>4901306</td>\n",
       "      <td>[{'id': '0061484', 'name': 'Giuseppe Battiston'}, {'id': '2063290', 'name': 'Anna Foglietta'}, {'id': '0316074', 'name': 'Marco Giallini'}, {'id': '0502412', 'name': 'Edoardo Leo'}, {'id': '0557609', 'name': 'Valerio Mastandrea'}, {'id': '2130040', 'name': 'Alba Rohrwacher'}, {'id': '0810738', 'name': 'Kasia Smutniak'}, {'id': '8111444', 'name': 'Benedetta Porcaroli'}, {'id': '0210812', 'name': 'Elisabetta De Palo'}, {'id': '8217329', 'name': 'Tommaso Tatafiore'}, {'id': '8217330', 'name': 'Noemi Pagotto'}]</td>\n",
       "      <td>[{'id': '0002645', 'name': 'Paolo Genovese'}]</td>\n",
       "      <td>[{'id': '3798121', 'name': 'Filippo Bologna'}, {'id': '0182499', 'name': 'Paolo Costella'}, {'id': '0002645', 'name': 'Paolo Genovese'}, {'id': '0002645', 'name': 'Paolo Genovese'}, {'id': '2601560', 'name': 'Paola Mammini'}, {'id': '0712330', 'name': 'Rolando Ravello'}]</td>\n",
       "      <td>[{'id': '1471794', 'name': 'Marco Belardi'}, {'id': '3056604', 'name': 'Ughetta Curto'}, {'id': '0316315', 'name': 'Marco Giannoni'}]</td>\n",
       "      <td>[{'id': '1304832', 'name': 'Maurizio Filardo'}]</td>\n",
       "    </tr>\n",
       "    <tr>\n",
       "      <th>4</th>\n",
       "      <td>0361696</td>\n",
       "      <td>[{'id': '0240381', 'name': 'Hilary Duff'}, {'id': '1268888', 'name': 'Oliver James'}, {'id': '0001418', 'name': 'David Keith'}, {'id': '1048128', 'name': 'Dana Davis'}, {'id': '0507381', 'name': 'Johnny Lewis'}, {'id': '0001854', 'name': 'Rita Wilson'}, {'id': '0562674', 'name': 'Lauren C. Mayhew'}, {'id': '0993507', 'name': 'Kat Dennings'}, {'id': '0728762', 'name': 'Jason Ritter'}, {'id': '0000360', 'name': 'Rebecca De Mornay'}, {'id': '0179173', 'name': 'John Corbett'}, {'id': '1703463', 'name': 'Carly Reeves'}, {'id': '0043041', 'name': 'James Avery'}, {'id': '0871636', 'name': 'Robert Trebor'}, {'id': '1736564', 'name': 'Steven T. Palmer'}, {'id': '0930397', 'name': 'Davida Williams'}, {'id': '0542000', 'name': 'Marshall Manesh'}, {'id': '0104462', 'name': 'Gibby Brand'}, {'id': '0573732', 'name': 'Sean McNamara'}, {'id': '0583541', 'name': 'Fred Meyers'}, {'id': '1112597', 'name': 'Mitch Rotter'}, {'id': '1734679', 'name': 'Seis Cuerdas'}, {'id': '0320567', 'name': 'John Gipson'}, {'id': '0862328', 'name': 'T.J. Thyne'}, {'id': '1734739', 'name': 'Adam Gontier'}, {'id': '1736594', 'name': 'Neil Sanderson'}, {'id': '1736625', 'name': 'Brad Walst'}, {'id': '1734952', 'name': 'Barry Stock'}, {'id': '1949925', 'name': 'Josh Berger'}, {'id': '1179559', 'name': 'Steven Gridley'}, {'id': '1742061', 'name': 'Portis Hershey'}, {'id': '3528523', 'name': 'Judith Hill'}, {'id': '0474121', 'name': 'Josh Kuhn'}, {'id': '11356849', 'name': 'Kaelyn Lyverse'}, {'id': '2200128', 'name': 'Michael Marchand'}, {'id': '1692361', 'name': 'Christopher Mauldin'}, {'id': '1567548', 'name': 'Shauney Recke'}, {'id': '2015607', 'name': 'Raquel C. Rischard'}, {'id': '1756395', 'name': 'Lindsay Roth'}, {'id': '2491332', 'name': 'J.R. Taylor'}, {'id': '1659641', 'name': 'Carly Alyssa Thorne'}, {'id': '4905234', 'name': 'Brooke Ventre'}]</td>\n",
       "      <td>[{'id': '0573732', 'name': 'Sean McNamara'}]</td>\n",
       "      <td>[{'id': '1112597', 'name': 'Mitch Rotter'}, {'id': '1368026', 'name': 'Sam Schreiber'}]</td>\n",
       "      <td>[{'id': '0112335', 'name': 'David Brookwell'}, {'id': '0228690', 'name': 'A.J. Dix'}, {'id': '0256497', 'name': 'Toby Emmerich'}, {'id': '1236446', 'name': 'Brad Jensen'}, {'id': '0438195', 'name': 'Avram 'Butch' Kaplan'}, {'id': '0442212', 'name': 'Mark Kaufman'}, {'id': '0483091', 'name': 'Christina Lambert'}, {'id': '0006998', 'name': 'Todd Lewis'}, {'id': '0573732', 'name': 'Sean McNamara'}, {'id': '0601597', 'name': 'Matt Moore'}, {'id': '0722603', 'name': 'Anthony Rhulen'}, {'id': '0728260', 'name': 'Sara Risher'}, {'id': '1387141', 'name': 'Troy Rowland'}, {'id': '0999995', 'name': 'William Shively'}, {'id': '1520636', 'name': 'Matthew A. Thomas'}]</td>\n",
       "      <td>[{'id': '1573324', 'name': 'Machine Head'}, {'id': '0956374', 'name': 'Aaron Zigman'}]</td>\n",
       "    </tr>\n",
       "  </tbody>\n",
       "</table>\n",
       "</div>"
      ],
      "text/plain": [
       "        id  \\\n",
       "0  0337578   \n",
       "1  0113253   \n",
       "2  0995868   \n",
       "3  4901306   \n",
       "4  0361696   \n",
       "\n",
       "                                                                                                                                                                                                                                                                                                                                                                                                                                                                                                                                                                                                                                                                                                                                                                                                                                                                                                                                                                                                                                                                                                                                                                                                                                                                                                                                                                                                                                                                                                                                                                                                                                                                                                                                                                                                                                                                                                                 cast  \\\n",
       "0                                                                                                                                                                                                                                                                                                                                                                                                                                                                                                                                                                                                                    [{'id': '0000821', 'name': 'Amitabh Bachchan'}, {'id': '0004564', 'name': 'Hema Malini'}, {'id': '0006795', 'name': 'Salman Khan'}, {'id': '0154274', 'name': 'Mahima Chaudhry'}, {'id': '0990090', 'name': 'Aman Verma'}, {'id': '1267095', 'name': 'Samir Soni'}, {'id': '1265436', 'name': 'Saahil Chadha'}, {'id': '1177893', 'name': 'Nasirr Khan'}, {'id': '0710046', 'name': 'Suman Ranganath'}, {'id': '0244890', 'name': 'Divya Dutta'}, {'id': '1247644', 'name': 'Arzoo Govitrikar'}, {'id': '1267008', 'name': 'Rimi Sen'}, {'id': '0310698', 'name': 'Yash Gawli'}, {'id': '0712546', 'name': 'Paresh Rawal'}, {'id': '0239267', 'name': 'Lillete Dubey'}, {'id': '0768296', 'name': 'Sharat Saxena'}, {'id': '1266956', 'name': 'Sanjeeda Sheikh'}, {'id': '2147526', 'name': 'Asrani'}, {'id': '0318622', 'name': 'Avtar Gill'}, {'id': '0430803', 'name': 'Mohan Joshi'}, {'id': '0220807', 'name': 'Anang Desai'}, {'id': '0883165', 'name': 'Nakul Vaid'}, {'id': '0456094', 'name': 'Shashi Kiran'}, {'id': '1024111', 'name': 'Gajendra Chauhan'}, {'id': '0747195', 'name': 'Sudipta Roy'}, {'id': '1869031', 'name': 'Neha Ghanekar'}, {'id': '1866697', 'name': 'Titiksha Burman'}, {'id': '1587122', 'name': 'Smit Sheth'}, {'id': '1249326', 'name': 'Harsh Vashisht'}]   \n",
       "1                                                                                                                                                                                                                                                                                                                                                                                                                                                                                                                                                                                         [{'id': '0000587', 'name': 'Donald Pleasence'}, {'id': '0748620', 'name': 'Paul Rudd'}, {'id': '0353238', 'name': 'Marianne Hagan'}, {'id': '0752751', 'name': 'Mitchell Ryan'}, {'id': '0200981', 'name': 'Kim Darby'}, {'id': '0257588', 'name': 'Bradford English'}, {'id': '0091569', 'name': 'Keith Bogart'}, {'id': '0639686', 'name': 'Mariah O'Brien'}, {'id': '0315210', 'name': 'Leo Geter'}, {'id': '0105046', 'name': 'J.C. Brandy'}, {'id': '0306894', 'name': 'Devin Gardner'}, {'id': '0842630', 'name': 'Susan Swift'}, {'id': '0928111', 'name': 'George P. Wilbur'}, {'id': '0460758', 'name': 'Janice Knickrehm'}, {'id': '0248430', 'name': 'Alan Echeverria'}, {'id': '0750539', 'name': 'Hildur Ruriks'}, {'id': '0382959', 'name': 'Sheri Hicks'}, {'id': '0698354', 'name': 'Tom Proctor'}, {'id': '0606408', 'name': 'Bryan Morris'}, {'id': '0156806', 'name': 'Lee Ju Chew'}, {'id': '0027309', 'name': 'Raquelle Anderson'}, {'id': '0838741', 'name': 'Kristine Summers'}, {'id': '0232172', 'name': 'Elyse Donalson'}, {'id': '0503583', 'name': 'A. Michael Lerner'}, {'id': '1115786', 'name': 'Jimmy Chunga'}, {'id': '0242941', 'name': 'Ellen Dunning'}, {'id': '1355220', 'name': 'Brad Hardin'}, {'id': '0503610', 'name': 'Fred Lerner'}, {'id': '1083984', 'name': 'James Woodson'}]   \n",
       "2                                                                                                                                                                                                                                                                                                                                                                                                      [{'id': '5991572', 'name': 'Kevin de Paula'}, {'id': '5991573', 'name': 'Leonardo Lima Carvalho'}, {'id': '1179580', 'name': 'Seu Jorge'}, {'id': '4178453', 'name': 'Mariana Nunes'}, {'id': '0328604', 'name': 'Milton Gonçalves'}, {'id': '0584492', 'name': 'Seth Michaels'}, {'id': '0000352', 'name': 'Vincent D'Onofrio'}, {'id': '0560412', 'name': 'André Mattos'}, {'id': '0679888', 'name': 'Phil Miler'}, {'id': '4158426', 'name': 'Rafael Henriques'}, {'id': '5991243', 'name': 'Felipe Simas'}, {'id': '2186742', 'name': 'Adriano Aragon'}, {'id': '4309059', 'name': 'Mariana Balsa'}, {'id': '6534539', 'name': 'Eric Bell Jr.'}, {'id': '1546300', 'name': 'Diego Boneta'}, {'id': '1832579', 'name': 'Fernando Caruso'}, {'id': '1397601', 'name': 'Tonya Cornelisse'}, {'id': '6644313', 'name': 'Jon Cotterill'}, {'id': '6565973', 'name': 'Vivi Devereaux'}, {'id': '1499052', 'name': 'Thelmo Fernandes'}, {'id': '5991245', 'name': 'Jerome Franz'}, {'id': '5991247', 'name': 'Roger Haag'}, {'id': '2003849', 'name': 'Sven Holmberg'}, {'id': '6331142', 'name': 'Arthur Jansen'}, {'id': '0433784', 'name': 'Garcia Júnior'}, {'id': '0506492', 'name': 'Julio Levy'}, {'id': '0000538', 'name': 'Colm Meaney'}, {'id': '0616564', 'name': 'Charles Myara'}, {'id': '4550048', 'name': 'Ivan Orlic'}, {'id': '0671446', 'name': 'Pelé'}, {'id': '0763928', 'name': 'Rodrigo Santoro'}, {'id': '1518261', 'name': 'Brandon Wilson'}, {'id': '3681119', 'name': 'Celine Zapata'}]   \n",
       "3                                                                                                                                                                                                                                                                                                                                                                                                                                                                                                                                                                                                                                                                                                                                                                                                                                                                                                                                                                                                                                                                                                                                                                                                                                                                                                                                                                                    [{'id': '0061484', 'name': 'Giuseppe Battiston'}, {'id': '2063290', 'name': 'Anna Foglietta'}, {'id': '0316074', 'name': 'Marco Giallini'}, {'id': '0502412', 'name': 'Edoardo Leo'}, {'id': '0557609', 'name': 'Valerio Mastandrea'}, {'id': '2130040', 'name': 'Alba Rohrwacher'}, {'id': '0810738', 'name': 'Kasia Smutniak'}, {'id': '8111444', 'name': 'Benedetta Porcaroli'}, {'id': '0210812', 'name': 'Elisabetta De Palo'}, {'id': '8217329', 'name': 'Tommaso Tatafiore'}, {'id': '8217330', 'name': 'Noemi Pagotto'}]   \n",
       "4  [{'id': '0240381', 'name': 'Hilary Duff'}, {'id': '1268888', 'name': 'Oliver James'}, {'id': '0001418', 'name': 'David Keith'}, {'id': '1048128', 'name': 'Dana Davis'}, {'id': '0507381', 'name': 'Johnny Lewis'}, {'id': '0001854', 'name': 'Rita Wilson'}, {'id': '0562674', 'name': 'Lauren C. Mayhew'}, {'id': '0993507', 'name': 'Kat Dennings'}, {'id': '0728762', 'name': 'Jason Ritter'}, {'id': '0000360', 'name': 'Rebecca De Mornay'}, {'id': '0179173', 'name': 'John Corbett'}, {'id': '1703463', 'name': 'Carly Reeves'}, {'id': '0043041', 'name': 'James Avery'}, {'id': '0871636', 'name': 'Robert Trebor'}, {'id': '1736564', 'name': 'Steven T. Palmer'}, {'id': '0930397', 'name': 'Davida Williams'}, {'id': '0542000', 'name': 'Marshall Manesh'}, {'id': '0104462', 'name': 'Gibby Brand'}, {'id': '0573732', 'name': 'Sean McNamara'}, {'id': '0583541', 'name': 'Fred Meyers'}, {'id': '1112597', 'name': 'Mitch Rotter'}, {'id': '1734679', 'name': 'Seis Cuerdas'}, {'id': '0320567', 'name': 'John Gipson'}, {'id': '0862328', 'name': 'T.J. Thyne'}, {'id': '1734739', 'name': 'Adam Gontier'}, {'id': '1736594', 'name': 'Neil Sanderson'}, {'id': '1736625', 'name': 'Brad Walst'}, {'id': '1734952', 'name': 'Barry Stock'}, {'id': '1949925', 'name': 'Josh Berger'}, {'id': '1179559', 'name': 'Steven Gridley'}, {'id': '1742061', 'name': 'Portis Hershey'}, {'id': '3528523', 'name': 'Judith Hill'}, {'id': '0474121', 'name': 'Josh Kuhn'}, {'id': '11356849', 'name': 'Kaelyn Lyverse'}, {'id': '2200128', 'name': 'Michael Marchand'}, {'id': '1692361', 'name': 'Christopher Mauldin'}, {'id': '1567548', 'name': 'Shauney Recke'}, {'id': '2015607', 'name': 'Raquel C. Rischard'}, {'id': '1756395', 'name': 'Lindsay Roth'}, {'id': '2491332', 'name': 'J.R. Taylor'}, {'id': '1659641', 'name': 'Carly Alyssa Thorne'}, {'id': '4905234', 'name': 'Brooke Ventre'}]   \n",
       "\n",
       "                                                                                       directors  \\\n",
       "0                                                     [{'id': '0159162', 'name': 'Ravi Chopra'}]   \n",
       "1                                                   [{'id': '0152640', 'name': 'Joe Chappelle'}]   \n",
       "2  [{'id': '1905310', 'name': 'Jeff Zimbalist'}, {'id': '3104562', 'name': 'Michael Zimbalist'}]   \n",
       "3                                                  [{'id': '0002645', 'name': 'Paolo Genovese'}]   \n",
       "4                                                   [{'id': '0573732', 'name': 'Sean McNamara'}]   \n",
       "\n",
       "                                                                                                                                                                                                                                                                                                                                                                                                     writers  \\\n",
       "0  [{'id': '1338353', 'name': 'Shafiq Ansari'}, {'id': '1338448', 'name': 'Satish Bhatnagar'}, {'id': '0159148', 'name': 'B.R. Chopra'}, {'id': '1338988', 'name': 'Ram Govind'}, {'id': '0492854', 'name': 'Josephine Lawrence'}, {'id': '0495259', 'name': 'Helen Leary'}, {'id': '0495270', 'name': 'Nolan Leary'}, {'id': '1221396', 'name': 'Achala Nagar'}, {'id': '1221396', 'name': 'Achala Nagar'}]   \n",
       "1                                                                                                                                                                                                                                                                       [{'id': '0384185', 'name': 'Debra Hill'}, {'id': '0000118', 'name': 'John Carpenter'}, {'id': '0268107', 'name': 'Daniel Farrands'}]   \n",
       "2                                                                                                                                                                                                                                                                                                              [{'id': '1905310', 'name': 'Jeff Zimbalist'}, {'id': '3104562', 'name': 'Michael Zimbalist'}]   \n",
       "3                                                                                                                            [{'id': '3798121', 'name': 'Filippo Bologna'}, {'id': '0182499', 'name': 'Paolo Costella'}, {'id': '0002645', 'name': 'Paolo Genovese'}, {'id': '0002645', 'name': 'Paolo Genovese'}, {'id': '2601560', 'name': 'Paola Mammini'}, {'id': '0712330', 'name': 'Rolando Ravello'}]   \n",
       "4                                                                                                                                                                                                                                                                                                                    [{'id': '1112597', 'name': 'Mitch Rotter'}, {'id': '1368026', 'name': 'Sam Schreiber'}]   \n",
       "\n",
       "                                                                                                                                                                                                                                                                                                                                                                                                                                                                                                                                                                                                                                                                                 producers  \\\n",
       "0                                                                                                                                                                                                                                                                                                                                                                                                                                                                                                                                                                                                  [{'id': '1388826', 'name': 'Ashwani Chopra'}, {'id': '0159148', 'name': 'B.R. Chopra'}]   \n",
       "1                                                                                                                                                                                                                                                                                                                                                                                                                                                                                                                                                      [{'id': '0015443', 'name': 'Malek Akkad'}, {'id': '0002160', 'name': 'Moustapha Akkad'}, {'id': '0293551', 'name': 'Paul Freeman'}]   \n",
       "2                                                                                                                                        [{'id': '6453234', 'name': 'Alexandre Dauman'}, {'id': '0247524', 'name': 'Guy East'}, {'id': '0274288', 'name': 'Caíque Martins Ferreira'}, {'id': '0004976', 'name': 'Brian Grazer'}, {'id': '3070587', 'name': 'Paul Kemsley'}, {'id': '3092126', 'name': 'Benjamin Mathes'}, {'id': '4550048', 'name': 'Ivan Orlic'}, {'id': '0671446', 'name': 'Pelé'}, {'id': '1909034', 'name': 'Patrick Tendai Pfupajena'}, {'id': '0744907', 'name': 'Kim Roth'}, {'id': '5966439', 'name': 'Shana Salazar'}, {'id': '0933213', 'name': 'Colin Wilson'}]   \n",
       "3                                                                                                                                                                                                                                                                                                                                                                                                                                                                                                                                                    [{'id': '1471794', 'name': 'Marco Belardi'}, {'id': '3056604', 'name': 'Ughetta Curto'}, {'id': '0316315', 'name': 'Marco Giannoni'}]   \n",
       "4  [{'id': '0112335', 'name': 'David Brookwell'}, {'id': '0228690', 'name': 'A.J. Dix'}, {'id': '0256497', 'name': 'Toby Emmerich'}, {'id': '1236446', 'name': 'Brad Jensen'}, {'id': '0438195', 'name': 'Avram 'Butch' Kaplan'}, {'id': '0442212', 'name': 'Mark Kaufman'}, {'id': '0483091', 'name': 'Christina Lambert'}, {'id': '0006998', 'name': 'Todd Lewis'}, {'id': '0573732', 'name': 'Sean McNamara'}, {'id': '0601597', 'name': 'Matt Moore'}, {'id': '0722603', 'name': 'Anthony Rhulen'}, {'id': '0728260', 'name': 'Sara Risher'}, {'id': '1387141', 'name': 'Troy Rowland'}, {'id': '0999995', 'name': 'William Shively'}, {'id': '1520636', 'name': 'Matthew A. Thomas'}]   \n",
       "\n",
       "                                                                                     composers  \n",
       "0  [{'id': '0795411', 'name': 'Aadesh Shrivastava'}, {'id': '0802252', 'name': 'Uttam Singh'}]  \n",
       "1      [{'id': '0397697', 'name': 'Alan Howarth'}, {'id': '0704979', 'name': 'Paul Rabjohns'}]  \n",
       "2                                                   [{'id': '0006246', 'name': 'A.R. Rahman'}]  \n",
       "3                                              [{'id': '1304832', 'name': 'Maurizio Filardo'}]  \n",
       "4       [{'id': '1573324', 'name': 'Machine Head'}, {'id': '0956374', 'name': 'Aaron Zigman'}]  "
      ]
     },
     "execution_count": 282,
     "metadata": {},
     "output_type": "execute_result"
    }
   ],
   "source": [
    "movies_people_info_df.head()"
   ]
  },
  {
   "cell_type": "markdown",
   "metadata": {},
   "source": [
    "# Save data"
   ]
  },
  {
   "cell_type": "code",
   "execution_count": 292,
   "metadata": {},
   "outputs": [],
   "source": [
    "movies_people_info_df.to_csv('./data/credit.csv', index=False)"
   ]
  },
  {
   "cell_type": "code",
   "execution_count": 278,
   "metadata": {},
   "outputs": [],
   "source": [
    "movies_info_df.to_csv('./data/movie.csv', index=False)"
   ]
  }
 ],
 "metadata": {
  "kernelspec": {
   "display_name": "Python 3",
   "language": "python",
   "name": "python3"
  },
  "language_info": {
   "codemirror_mode": {
    "name": "ipython",
    "version": 3
   },
   "file_extension": ".py",
   "mimetype": "text/x-python",
   "name": "python",
   "nbconvert_exporter": "python",
   "pygments_lexer": "ipython3",
   "version": "3.8.3"
  }
 },
 "nbformat": 4,
 "nbformat_minor": 4
}
