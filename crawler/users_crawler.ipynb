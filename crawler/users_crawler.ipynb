{
 "cells": [
  {
   "cell_type": "code",
   "execution_count": null,
   "metadata": {},
   "outputs": [],
   "source": [
    "from requests_html import HTMLSession # for making request\n",
    "import requests # for making request\n",
    "import json # for API parsing\n",
    "import pandas as pd # for data processing\n",
    "import numpy as np # for data processing\n",
    "from tqdm import tqdm # for count time of iteration\n",
    "import re\n",
    "from tqdm import tqdm\n",
    "from imdb import IMDb\n",
    "from imdb.Person import Person"
   ]
  },
  {
   "cell_type": "markdown",
   "metadata": {},
   "source": [
    "# Crawl user data\n",
    "\n",
    "Vì IDBm không có API để lấy thông tin user, nên phần này mình hoàn toàn dựa vào parse HTML để làm.\n",
    "Mỗi bộ phim mình sẽ lần lượt lấy top profilic user đánh giá từ 1 đến 10 sao. Lí do chọn profilic user vì những user này đánh giá nhiều phim, mình sẽ có tỉ lệ cao tìm được user đó đánh giá những phim khác trong data movie. Với khoảng 9000 bộ phim, mình crawl được tầm hơn 1 triệu bộ (movie_id, user_id, rating)"
   ]
  },
  {
   "cell_type": "markdown",
   "metadata": {},
   "source": [
    "# Load set id"
   ]
  },
  {
   "cell_type": "code",
   "execution_count": 4,
   "metadata": {},
   "outputs": [],
   "source": [
    "movie_df = pd.read_csv('../data/movie.csv', dtype={'id':str})"
   ]
  },
  {
   "cell_type": "code",
   "execution_count": null,
   "metadata": {},
   "outputs": [],
   "source": [
    "set_id = set(movie_df['id'])"
   ]
  },
  {
   "cell_type": "markdown",
   "metadata": {},
   "source": [
    "# Parse HTML"
   ]
  },
  {
   "cell_type": "code",
   "execution_count": null,
   "metadata": {},
   "outputs": [],
   "source": [
    "session = HTMLSession()"
   ]
  },
  {
   "cell_type": "code",
   "execution_count": null,
   "metadata": {},
   "outputs": [],
   "source": [
    "users = {}\n",
    "for id in tqdm(set_id_small):\n",
    "    try:\n",
    "        user_rating = {}\n",
    "        for i in range(1,11,2):\n",
    "            url = f'https://www.imdb.com/title/tt{id}/reviews?sort=reviewVolume&dir=desc&ratingFilter={i}'\n",
    "            r = session.get(url)\n",
    "            try:\n",
    "                user = r.html.find('.display-name-link > a')\n",
    "                user_rating[i] = user\n",
    "            except:\n",
    "                pass\n",
    "        users[id] = user_rating\n",
    "    except:\n",
    "        pass"
   ]
  },
  {
   "cell_type": "markdown",
   "metadata": {},
   "source": [
    "# Save data"
   ]
  },
  {
   "cell_type": "code",
   "execution_count": null,
   "metadata": {},
   "outputs": [],
   "source": [
    "def get_id_from_element(ele):\n",
    "    id = re.search('/ur(.+?)/', ele.links.pop())\n",
    "    if id is None:\n",
    "        return None\n",
    "    return id.group(1)"
   ]
  },
  {
   "cell_type": "code",
   "execution_count": null,
   "metadata": {},
   "outputs": [],
   "source": [
    "ratings = []\n",
    "for key_id in tqdm(users):\n",
    "    for key_rating in users[key_id]:\n",
    "        for element in users[key_id][key_rating]:\n",
    "            dict_row = {}\n",
    "            user_id = get_id_from_element(element)\n",
    "            dict_row['movie_id'] = key_id\n",
    "            dict_row['user_id'] = user_id\n",
    "            dict_row['rating'] = int(key_rating)\n",
    "            ratings.append(dict_row)"
   ]
  },
  {
   "cell_type": "code",
   "execution_count": null,
   "metadata": {},
   "outputs": [],
   "source": [
    "ratings_df = pd.DataFrame(data=ratings)"
   ]
  },
  {
   "cell_type": "code",
   "execution_count": 7,
   "metadata": {},
   "outputs": [],
   "source": [
    "ratings_df.to_csv('../data/rating.csv', index=False)"
   ]
  }
 ],
 "metadata": {
  "kernelspec": {
   "display_name": "Python 3",
   "language": "python",
   "name": "python3"
  },
  "language_info": {
   "codemirror_mode": {
    "name": "ipython",
    "version": 3
   },
   "file_extension": ".py",
   "mimetype": "text/x-python",
   "name": "python",
   "nbconvert_exporter": "python",
   "pygments_lexer": "ipython3",
   "version": "3.8.3"
  }
 },
 "nbformat": 4,
 "nbformat_minor": 4
}
