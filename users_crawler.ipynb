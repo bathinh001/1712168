{
 "cells": [
  {
   "cell_type": "code",
   "execution_count": 2,
   "metadata": {},
   "outputs": [],
   "source": [
    "from requests_html import HTMLSession # for making request\n",
    "import requests # for making request\n",
    "import json # for API parsing\n",
    "import pandas as pd # for data processing\n",
    "import numpy as np # for data processing\n",
    "from tqdm import tqdm # for count time of iteration\n",
    "import re\n",
    "from tqdm import tqdm\n",
    "from imdb import IMDb\n",
    "from imdb.Person import Person"
   ]
  },
  {
   "cell_type": "markdown",
   "metadata": {},
   "source": [
    "# Load set id"
   ]
  },
  {
   "cell_type": "code",
   "execution_count": 3,
   "metadata": {},
   "outputs": [],
   "source": [
    "movie_df = pd.read_csv('./data/movie.csv', dtype={'id':str})"
   ]
  },
  {
   "cell_type": "code",
   "execution_count": 41,
   "metadata": {},
   "outputs": [],
   "source": [
    "movie_df.to_csv('./data/movie.csv', index=False)"
   ]
  },
  {
   "cell_type": "code",
   "execution_count": 4,
   "metadata": {},
   "outputs": [],
   "source": [
    "set_id = set(movie_df['id'])"
   ]
  },
  {
   "cell_type": "code",
   "execution_count": 8,
   "metadata": {},
   "outputs": [],
   "source": [
    "set_id_small = ['3495026',\n",
    " '1504320',\n",
    " '0099939',\n",
    " '0085334',\n",
    " '0039689',\n",
    " '0190641',\n",
    " '5886046',\n",
    " '0108162',\n",
    " '0071249',\n",
    " '0110737',\n",
    " '0101698',\n",
    " '0070130',\n",
    " '0108122',]"
   ]
  },
  {
   "cell_type": "markdown",
   "metadata": {},
   "source": [
    "# Parse HTML"
   ]
  },
  {
   "cell_type": "code",
   "execution_count": 9,
   "metadata": {},
   "outputs": [],
   "source": [
    "session = HTMLSession()"
   ]
  },
  {
   "cell_type": "code",
   "execution_count": 10,
   "metadata": {},
   "outputs": [
    {
     "name": "stderr",
     "output_type": "stream",
     "text": [
      "100%|██████████████████████████████████████████████████████████████████████████████████| 13/13 [01:42<00:00,  7.90s/it]\n"
     ]
    }
   ],
   "source": [
    "users = {}\n",
    "for id in tqdm(set_id_small):\n",
    "    try:\n",
    "        user_rating = {}\n",
    "        for i in range(1,11,2):\n",
    "            url = f'https://www.imdb.com/title/tt{id}/reviews?sort=reviewVolume&dir=desc&ratingFilter={i}'\n",
    "            r = session.get(url)\n",
    "            try:\n",
    "                user = r.html.find('.display-name-link > a')\n",
    "                user_rating[i] = user\n",
    "            except:\n",
    "                pass\n",
    "        users[id] = user_rating\n",
    "    except:\n",
    "        pass"
   ]
  },
  {
   "cell_type": "markdown",
   "metadata": {},
   "source": [
    "# Save data"
   ]
  },
  {
   "cell_type": "code",
   "execution_count": 27,
   "metadata": {},
   "outputs": [],
   "source": [
    "def get_id_from_element(ele):\n",
    "    id = re.search('/ur(.+?)/', ele.links.pop())\n",
    "    if id is None:\n",
    "        return None\n",
    "    return id.group(1)"
   ]
  },
  {
   "cell_type": "code",
   "execution_count": 33,
   "metadata": {},
   "outputs": [
    {
     "name": "stderr",
     "output_type": "stream",
     "text": [
      "100%|█████████████████████████████████████████████████████████████████████████████████| 13/13 [00:00<00:00, 343.01it/s]\n"
     ]
    }
   ],
   "source": [
    "ratings = []\n",
    "for key_id in tqdm(users):\n",
    "    for key_rating in users[key_id]:\n",
    "        for element in users[key_id][key_rating]:\n",
    "            dict_row = {}\n",
    "            user_id = get_id_from_element(element)\n",
    "            dict_row['movie_id'] = key_id\n",
    "            dict_row['user_id'] = user_id\n",
    "            dict_row['rating'] = int(key_rating)\n",
    "            ratings.append(dict_row)"
   ]
  },
  {
   "cell_type": "code",
   "execution_count": 37,
   "metadata": {},
   "outputs": [],
   "source": [
    "ratings_df = pd.DataFrame(data=ratings)"
   ]
  },
  {
   "cell_type": "code",
   "execution_count": 42,
   "metadata": {},
   "outputs": [],
   "source": [
    "ratings_df.to_csv('./data/rating.csv', index=False)"
   ]
  },
  {
   "cell_type": "code",
   "execution_count": null,
   "metadata": {},
   "outputs": [],
   "source": [
    "ratings_df = []\n",
    "for i in range(1,11):\n",
    "    df_"
   ]
  }
 ],
 "metadata": {
  "kernelspec": {
   "display_name": "Python 3",
   "language": "python",
   "name": "python3"
  },
  "language_info": {
   "codemirror_mode": {
    "name": "ipython",
    "version": 3
   },
   "file_extension": ".py",
   "mimetype": "text/x-python",
   "name": "python",
   "nbconvert_exporter": "python",
   "pygments_lexer": "ipython3",
   "version": "3.8.3"
  }
 },
 "nbformat": 4,
 "nbformat_minor": 4
}
